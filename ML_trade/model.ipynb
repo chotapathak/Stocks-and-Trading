{
 "cells": [
  {
   "cell_type": "markdown",
   "metadata": {},
   "source": [
    "<h1> ML for stock trading </h1>\n",
    "step 1: getting the data\n",
    "lib : Yahoo Finance library\n",
    "\n",
    "Create chart with indicators"
   ]
  },
  {
   "cell_type": "code",
   "execution_count": null,
   "metadata": {},
   "outputs": [],
   "source": [
    "from re import I\n",
    "import pandas as pd\n",
    "import matplotlib.pyplot as plt\n",
    "import datetime\n",
    "from datetime import date, timedelta\n",
    "\n",
    "# Installing y-finance mod\n",
    "\n",
    "try:\n",
    "  import yfinance\n",
    "except: \n",
    "  %pip install -q yfinance\n",
    "  import yfinance\n",
    "\n",
    "try:\n",
    "  import yahoofinancials\n",
    "except: \n",
    "  %pip install -q yahoofinancials\n",
    "  import yahoofinancials\n",
    "\n",
    "import yfinance as yf\n",
    "from yahoofinancials import YahooFinancials \n"
   ]
  },
  {
   "cell_type": "markdown",
   "metadata": {},
   "source": [
    "<h2> Download the data from the yfinance database </h2>\\\n",
    "plot the data on chart and show on mtlab plot"
   ]
  },
  {
   "cell_type": "code",
   "execution_count": null,
   "metadata": {},
   "outputs": [],
   "source": [
    "# downloading historical data\n",
    "df = yf.download('TSLA',\n",
    "                 start='2010-01-01',\n",
    "                 end_date=date.today(),\n",
    "                 progress=False,\n",
    "                 )\n",
    "\n",
    "# creating a simple chart\n",
    "close = df.plot(y='Close', title='TSLA stock')\n",
    "plt.show()\n",
    "low = df.plot(y='Low')\n",
    "plt.show()"
   ]
  },
  {
   "cell_type": "markdown",
   "metadata": {},
   "source": [
    "<h2> Do some technical analysis </h2>\n",
    "use RSI and CCI \n",
    "plot head"
   ]
  },
  {
   "cell_type": "code",
   "execution_count": null,
   "metadata": {},
   "outputs": [],
   "source": [
    "try:\n",
    "  import pandas_ta as ta\n",
    "except: \n",
    "  %pip install -q pandas_ta\n",
    "  import pandas_ta as ta\n",
    "\n",
    "df['RSI(2)'] = ta.rsi(df['Close'],length=2)\n",
    "df['RSI(7)'] = ta.rsi(df['Close'],length=7)\n",
    "df['RSI(14)'] = ta.rsi(df['Close'],length=14)\n",
    "df['CCI(30)'] = ta.cci(close=df['Close'],length=30,high=df['High'],low=df['Low'])\n",
    "df['CCI(50)'] = ta.cci(close=df['Close'],length=50,high=df['High'],low=df['Low'])\n",
    "df['CCI(100)'] = ta.cci(close=df['Close'],length=100,high=df['High'],low=df['Low'])\n",
    "\n",
    "# drop NaN values\n",
    "df = df.dropna()\n",
    "\n",
    "# creating a plot showing some indicators\n",
    "df.plot(y=['RSI(2)'])\n",
    "df.plot(y='CCI(100)')\n",
    "\n",
    "df.head()"
   ]
  }
 ],
 "metadata": {
  "kernelspec": {
   "display_name": "Python 3.8.9 64-bit",
   "language": "python",
   "name": "python3"
  },
  "language_info": {
   "name": "python",
   "version": "3.8.9"
  },
  "orig_nbformat": 4,
  "vscode": {
   "interpreter": {
    "hash": "31f2aee4e71d21fbe5cf8b01ff0e069b9275f58929596ceb00d14d90e3e16cd6"
   }
  }
 },
 "nbformat": 4,
 "nbformat_minor": 2
}
