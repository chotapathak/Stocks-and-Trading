{
 "cells": [
  {
   "cell_type": "code",
   "execution_count": null,
   "metadata": {},
   "outputs": [],
   "source": [
    "import pandas as pd\n",
    "try:\n",
    "    import lxml\n",
    "except:\n",
    "    %pip3 install lxml as lxml\n",
    "    import lxml\n",
    "url = \"https://www.fdic.gov/resources/resolutions/bank-failures/failed-bank-list.html\"\n",
    "\n",
    "dfs = pd.read_html(url)\n",
    "\n",
    "dfs"
   ]
  },
  {
   "cell_type": "code",
   "execution_count": null,
   "metadata": {},
   "outputs": [],
   "source": [
    "from csv import reader\n",
    "import pandas as pd\n",
    "import matplotlib.pyplot as plt\n",
    "# import lxml\n",
    "# importing in seprate for later not to fetch again\n",
    "# file  = pd.read_csv('https://raw.githubusercontent.com/ybifoundation/Dataset/main/Titanic.csv')\n",
    "url = \"https://www.fdic.gov/resources/resolutions/bank-failures/failed-bank-list\"\n",
    "# file = pd.read_html(url)\n",
    "file = pd.re\n",
    "file"
   ]
  },
  {
   "cell_type": "markdown",
   "metadata": {},
   "source": [
    "# Basic Data manupulation and cleaning using pandas"
   ]
  },
  {
   "cell_type": "code",
   "execution_count": null,
   "metadata": {},
   "outputs": [],
   "source": [
    "# file.info(verbose=True)\n",
    "df = pd.DataFrame(file)\n",
    "df = file.head()\n",
    "\n",
    "# Indexing \n",
    "# df.reindex(['a','b','c','d','e'])\n",
    "\n",
    "# df.columns\n",
    "# Drop Nan values\n",
    "df.dropna()\n",
    "\n",
    "# fill NaN values with 0\n",
    "df.fillna(0)\n",
    "\n",
    "# file['boat'].dropna()\n",
    "\n",
    "# Check is null nd return true ,false\n",
    "# print(df['name'].isnull()) \n",
    "\n",
    "# Replace Missing or Generic values\n",
    "df.replace(df['age'],2)"
   ]
  },
  {
   "cell_type": "markdown",
   "metadata": {},
   "source": [
    "# Pandas Data structure\n",
    "1. 1d => Series\n",
    "2. 2d => DataFrame\n",
    "3. 3d => Panel"
   ]
  },
  {
   "cell_type": "code",
   "execution_count": null,
   "metadata": {},
   "outputs": [],
   "source": [
    "import pandas as pd\n",
    "import numpy as np\n",
    "\n",
    "# pandas use 3 type DS Series, DataFrame, Panel\n",
    "# Series\n",
    "# data = np.array(['a','b','c','d'])\n",
    "# s = pd.DataFrame(data)\n",
    "\n",
    "# DataFrame\n",
    "# data = {'Name':['Ram','Shyam'],\n",
    "#         'Age':[30,24]\n",
    "        \n",
    "#         }\n",
    "# df = pd.DataFrame(data, index=['r1','r2'])\n",
    "\n",
    "# Panel\n",
    "# data = {\n",
    "#         'Item1' : pd.DataFrame(np.random.randn(4,3)),\n",
    "#         'Item2' : pd.DataFrame(np.random.randn(4,2)),\n",
    "#         }\n",
    "# p = pd.Panel(data)\n",
    "\n",
    "# print(p)"
   ]
  },
  {
   "cell_type": "code",
   "execution_count": null,
   "metadata": {},
   "outputs": [],
   "source": []
  }
 ],
 "metadata": {
  "kernelspec": {
   "display_name": "Python 3.8.9 64-bit",
   "language": "python",
   "name": "python3"
  },
  "language_info": {
   "codemirror_mode": {
    "name": "ipython",
    "version": 3
   },
   "file_extension": ".py",
   "mimetype": "text/x-python",
   "name": "python",
   "nbconvert_exporter": "python",
   "pygments_lexer": "ipython3",
   "version": "3.8.9"
  },
  "orig_nbformat": 4,
  "vscode": {
   "interpreter": {
    "hash": "31f2aee4e71d21fbe5cf8b01ff0e069b9275f58929596ceb00d14d90e3e16cd6"
   }
  }
 },
 "nbformat": 4,
 "nbformat_minor": 2
}
